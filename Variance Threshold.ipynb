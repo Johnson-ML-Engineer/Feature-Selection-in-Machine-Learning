{
 "cells": [
  {
   "cell_type": "markdown",
   "id": "e87f0dcd-16e6-46c5-b94f-7ab2d6cb651c",
   "metadata": {},
   "source": [
    "# Variance Threshold"
   ]
  },
  {
   "cell_type": "code",
   "execution_count": 1,
   "id": "bc47c798-1069-4cd6-b222-ab9e317bb04a",
   "metadata": {},
   "outputs": [
    {
     "ename": "NameError",
     "evalue": "name 'df' is not defined",
     "output_type": "error",
     "traceback": [
      "\u001b[1;31m---------------------------------------------------------------------------\u001b[0m",
      "\u001b[1;31mNameError\u001b[0m                                 Traceback (most recent call last)",
      "Cell \u001b[1;32mIn[1], line 3\u001b[0m\n\u001b[0;32m      1\u001b[0m \u001b[38;5;28;01mfrom\u001b[39;00m \u001b[38;5;21;01msklearn\u001b[39;00m\u001b[38;5;21;01m.\u001b[39;00m\u001b[38;5;21;01mfeature_selection\u001b[39;00m \u001b[38;5;28;01mimport\u001b[39;00m VarianceThreshold\n\u001b[0;32m      2\u001b[0m var\u001b[38;5;241m=\u001b[39mVarianceThreshold()\n\u001b[1;32m----> 3\u001b[0m df\u001b[38;5;241m=\u001b[39mvar\u001b[38;5;241m.\u001b[39mfit(\u001b[43mdf\u001b[49m)\n",
      "\u001b[1;31mNameError\u001b[0m: name 'df' is not defined"
     ]
    }
   ],
   "source": [
    "from sklearn.feature_selection import VarianceThreshold\n",
    "var=VarianceThreshold()\n",
    "df=var.fit(df)"
   ]
  },
  {
   "cell_type": "code",
   "execution_count": 2,
   "id": "3999bb20-0d04-4251-983e-2ac6f3dc130c",
   "metadata": {},
   "outputs": [
    {
     "ename": "NameError",
     "evalue": "name 'df' is not defined",
     "output_type": "error",
     "traceback": [
      "\u001b[1;31m---------------------------------------------------------------------------\u001b[0m",
      "\u001b[1;31mNameError\u001b[0m                                 Traceback (most recent call last)",
      "Cell \u001b[1;32mIn[2], line 1\u001b[0m\n\u001b[1;32m----> 1\u001b[0m \u001b[43mdf\u001b[49m\u001b[38;5;241m.\u001b[39mget_support()\n",
      "\u001b[1;31mNameError\u001b[0m: name 'df' is not defined"
     ]
    }
   ],
   "source": [
    "df.get_support()"
   ]
  },
  {
   "cell_type": "markdown",
   "id": "eec41efb-5022-419c-b9ad-02f49ca5df3e",
   "metadata": {},
   "source": [
    "By default, it removes all zero-variance features"
   ]
  },
  {
   "cell_type": "code",
   "execution_count": null,
   "id": "e2b53afb-597c-4ff6-9ed0-89baf2cccadf",
   "metadata": {},
   "outputs": [],
   "source": [
    "df=df.drop([column for column in df.columns if df[column].var()==0],axis=\"columns\")"
   ]
  }
 ],
 "metadata": {
  "kernelspec": {
   "display_name": "Python 3 (ipykernel)",
   "language": "python",
   "name": "python3"
  },
  "language_info": {
   "codemirror_mode": {
    "name": "ipython",
    "version": 3
   },
   "file_extension": ".py",
   "mimetype": "text/x-python",
   "name": "python",
   "nbconvert_exporter": "python",
   "pygments_lexer": "ipython3",
   "version": "3.11.3"
  }
 },
 "nbformat": 4,
 "nbformat_minor": 5
}
