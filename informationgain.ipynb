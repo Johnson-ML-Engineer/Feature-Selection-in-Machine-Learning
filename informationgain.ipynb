{
 "cells": [
  {
   "cell_type": "markdown",
   "id": "80cd9742-c058-4fd4-a6c3-01b902f00115",
   "metadata": {},
   "source": [
    "Information Gain = entropy(parent) – [average entropy(children)]"
   ]
  },
  {
   "cell_type": "markdown",
   "id": "28592f08-37af-4da6-b789-4cd21a0d069a",
   "metadata": {},
   "source": [
    "                   Entropy =∑−Pi log2Pi\n",
    "\n",
    "                   pi is the probability of class i\n",
    "                   The higher the entropy the more the informationcontent."
   ]
  },
  {
   "cell_type": "code",
   "execution_count": 1,
   "id": "27665818-e4e3-4a9c-b709-c0eafa217efd",
   "metadata": {},
   "outputs": [
    {
     "name": "stdout",
     "output_type": "stream",
     "text": [
      "Information Gain for Outlook: 0.2754887502163468\n",
      "Information Gain for Temperature: 0.12451124978365313\n",
      "Information Gain for Humidity: 0.02904940554533142\n",
      "Information Gain for Windy: 0.12451124978365313\n"
     ]
    }
   ],
   "source": [
    "import pandas as pd\n",
    "import numpy as np\n",
    "\n",
    "# Sample dataset\n",
    "data = {\n",
    "    'Outlook': ['Sunny', 'Sunny', 'Overcast', 'Rainy', 'Rainy', 'Rainy', 'Overcast', 'Sunny', 'Sunny', 'Rainy'],\n",
    "    'Temperature': ['Hot', 'Hot', 'Hot', 'Mild', 'Cool', 'Cool', 'Cool', 'Mild', 'Cool', 'Mild'],\n",
    "    'Humidity': ['High', 'High', 'High', 'High', 'Normal', 'Normal', 'Normal', 'High', 'Normal', 'Normal'],\n",
    "    'Windy': [False, True, False, False, False, True, True, False, False, True],\n",
    "    'PlayTennis': ['No', 'No', 'Yes', 'Yes', 'Yes', 'No', 'Yes', 'No', 'Yes', 'No']\n",
    "}\n",
    "\n",
    "df = pd.DataFrame(data)\n",
    "\n",
    "# Function to calculate entropy\n",
    "def entropy(data):\n",
    "    labels = data['PlayTennis']\n",
    "    unique_labels, label_counts = np.unique(labels, return_counts=True)\n",
    "    probabilities = label_counts / len(labels)\n",
    "    entropy = -np.sum(probabilities * np.log2(probabilities))\n",
    "    return entropy\n",
    "\n",
    "# Function to calculate conditional entropy for a feature\n",
    "def conditional_entropy(data, feature):\n",
    "    unique_values = data[feature].unique()\n",
    "    entropy_after_split = 0\n",
    "    for value in unique_values:\n",
    "        subset = data[data[feature] == value]\n",
    "        weight = len(subset) / len(data)\n",
    "        entropy_after_split += weight * entropy(subset)\n",
    "    return entropy_after_split\n",
    "\n",
    "# Function to calculate Information Gain for a feature\n",
    "def information_gain(data, feature):\n",
    "    entropy_before_split = entropy(data)\n",
    "    entropy_after_split = conditional_entropy(data, feature)\n",
    "    information_gain = entropy_before_split - entropy_after_split\n",
    "    return information_gain\n",
    "\n",
    "# Calculate Information Gain for each feature\n",
    "features = df.columns[:-1]  # Exclude the target variable\n",
    "information_gains = {}\n",
    "for feature in features:\n",
    "    information_gains[feature] = information_gain(df, feature)\n",
    "\n",
    "# Print Information Gain for each feature\n",
    "for feature, ig in information_gains.items():\n",
    "    print(f\"Information Gain for {feature}: {ig}\")\n"
   ]
  },
  {
   "cell_type": "code",
   "execution_count": null,
   "id": "8815d852-379a-4d96-88e9-235f2fc76c24",
   "metadata": {},
   "outputs": [],
   "source": []
  }
 ],
 "metadata": {
  "kernelspec": {
   "display_name": "Python 3 (ipykernel)",
   "language": "python",
   "name": "python3"
  },
  "language_info": {
   "codemirror_mode": {
    "name": "ipython",
    "version": 3
   },
   "file_extension": ".py",
   "mimetype": "text/x-python",
   "name": "python",
   "nbconvert_exporter": "python",
   "pygments_lexer": "ipython3",
   "version": "3.11.3"
  }
 },
 "nbformat": 4,
 "nbformat_minor": 5
}
